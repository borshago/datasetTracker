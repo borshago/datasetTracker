{
  "nbformat": 4,
  "nbformat_minor": 0,
  "metadata": {
    "colab": {
      "provenance": []
    },
    "kernelspec": {
      "name": "python3",
      "display_name": "Python 3"
    },
    "language_info": {
      "name": "python"
    }
  },
  "cells": [
    {
      "cell_type": "code",
      "source": [
        "pip install itables"
      ],
      "metadata": {
        "colab": {
          "base_uri": "https://localhost:8080/"
        },
        "id": "BU1Emsvl-82R",
        "outputId": "1b0cb304-743c-432a-c578-2354a458ed72"
      },
      "execution_count": 29,
      "outputs": [
        {
          "output_type": "stream",
          "name": "stdout",
          "text": [
            "Collecting itables\n",
            "  Downloading itables-2.2.2-py3-none-any.whl.metadata (8.3 kB)\n",
            "Requirement already satisfied: ipython in /usr/local/lib/python3.10/dist-packages (from itables) (7.34.0)\n",
            "Requirement already satisfied: numpy in /usr/local/lib/python3.10/dist-packages (from itables) (1.26.4)\n",
            "Requirement already satisfied: pandas in /usr/local/lib/python3.10/dist-packages (from itables) (2.2.2)\n",
            "Requirement already satisfied: setuptools>=18.5 in /usr/local/lib/python3.10/dist-packages (from ipython->itables) (71.0.4)\n",
            "Collecting jedi>=0.16 (from ipython->itables)\n",
            "  Using cached jedi-0.19.1-py2.py3-none-any.whl.metadata (22 kB)\n",
            "Requirement already satisfied: decorator in /usr/local/lib/python3.10/dist-packages (from ipython->itables) (4.4.2)\n",
            "Requirement already satisfied: pickleshare in /usr/local/lib/python3.10/dist-packages (from ipython->itables) (0.7.5)\n",
            "Requirement already satisfied: traitlets>=4.2 in /usr/local/lib/python3.10/dist-packages (from ipython->itables) (5.7.1)\n",
            "Requirement already satisfied: prompt-toolkit!=3.0.0,!=3.0.1,<3.1.0,>=2.0.0 in /usr/local/lib/python3.10/dist-packages (from ipython->itables) (3.0.48)\n",
            "Requirement already satisfied: pygments in /usr/local/lib/python3.10/dist-packages (from ipython->itables) (2.18.0)\n",
            "Requirement already satisfied: backcall in /usr/local/lib/python3.10/dist-packages (from ipython->itables) (0.2.0)\n",
            "Requirement already satisfied: matplotlib-inline in /usr/local/lib/python3.10/dist-packages (from ipython->itables) (0.1.7)\n",
            "Requirement already satisfied: pexpect>4.3 in /usr/local/lib/python3.10/dist-packages (from ipython->itables) (4.9.0)\n",
            "Requirement already satisfied: python-dateutil>=2.8.2 in /usr/local/lib/python3.10/dist-packages (from pandas->itables) (2.8.2)\n",
            "Requirement already satisfied: pytz>=2020.1 in /usr/local/lib/python3.10/dist-packages (from pandas->itables) (2024.2)\n",
            "Requirement already satisfied: tzdata>=2022.7 in /usr/local/lib/python3.10/dist-packages (from pandas->itables) (2024.2)\n",
            "Requirement already satisfied: parso<0.9.0,>=0.8.3 in /usr/local/lib/python3.10/dist-packages (from jedi>=0.16->ipython->itables) (0.8.4)\n",
            "Requirement already satisfied: ptyprocess>=0.5 in /usr/local/lib/python3.10/dist-packages (from pexpect>4.3->ipython->itables) (0.7.0)\n",
            "Requirement already satisfied: wcwidth in /usr/local/lib/python3.10/dist-packages (from prompt-toolkit!=3.0.0,!=3.0.1,<3.1.0,>=2.0.0->ipython->itables) (0.2.13)\n",
            "Requirement already satisfied: six>=1.5 in /usr/local/lib/python3.10/dist-packages (from python-dateutil>=2.8.2->pandas->itables) (1.16.0)\n",
            "Downloading itables-2.2.2-py3-none-any.whl (1.4 MB)\n",
            "\u001b[2K   \u001b[90m━━━━━━━━━━━━━━━━━━━━━━━━━━━━━━━━━━━━━━━━\u001b[0m \u001b[32m1.4/1.4 MB\u001b[0m \u001b[31m18.8 MB/s\u001b[0m eta \u001b[36m0:00:00\u001b[0m\n",
            "\u001b[?25hUsing cached jedi-0.19.1-py2.py3-none-any.whl (1.6 MB)\n",
            "Installing collected packages: jedi, itables\n",
            "Successfully installed itables-2.2.2 jedi-0.19.1\n"
          ]
        }
      ]
    },
    {
      "cell_type": "code",
      "source": [
        "from itables import init_notebook_mode\n",
        "init_notebook_mode(all_interactive=False)"
      ],
      "metadata": {
        "colab": {
          "base_uri": "https://localhost:8080/",
          "height": 17
        },
        "id": "_DoSNCbg_Dfz",
        "outputId": "103ebb86-a5af-4b9f-8a74-bc472e273715"
      },
      "execution_count": 34,
      "outputs": [
        {
          "output_type": "display_data",
          "data": {
            "text/plain": [
              "<IPython.core.display.HTML object>"
            ],
            "text/html": [
              "<script>\n",
              "    let is_dark_theme = function () {\n",
              "        // Jupyter Lab\n",
              "        if ('jpThemeLight' in document.body.dataset)\n",
              "            return (document.body.dataset.jpThemeLight === \"false\");\n",
              "\n",
              "        // VS Code\n",
              "        if ('vscodeThemeKind' in document.body.dataset)\n",
              "            return document.body.dataset.vscodeThemeKind.includes('dark');\n",
              "\n",
              "        // Jupyter Book\n",
              "        if ('theme' in document.documentElement.dataset)\n",
              "            return document.documentElement.dataset.theme.includes('dark');\n",
              "\n",
              "        // Default\n",
              "        return window.matchMedia('(prefers-color-scheme: dark)').matches;\n",
              "    }\n",
              "\n",
              "    if (is_dark_theme()) {\n",
              "        document.documentElement.classList.add('dark');\n",
              "    }\n",
              "    else {\n",
              "        document.documentElement.classList.remove('dark');\n",
              "    }\n",
              "</script>\n"
            ]
          },
          "metadata": {}
        }
      ]
    },
    {
      "cell_type": "code",
      "source": [
        "pip install Bio"
      ],
      "metadata": {
        "colab": {
          "base_uri": "https://localhost:8080/"
        },
        "id": "yrr7rxM53E2-",
        "outputId": "fb7efe29-b771-40aa-fff6-ade2a2652bcd"
      },
      "execution_count": 2,
      "outputs": [
        {
          "output_type": "stream",
          "name": "stdout",
          "text": [
            "Collecting Bio\n",
            "  Downloading bio-1.7.1-py3-none-any.whl.metadata (5.7 kB)\n",
            "Collecting biopython>=1.80 (from Bio)\n",
            "  Downloading biopython-1.84-cp310-cp310-manylinux_2_17_x86_64.manylinux2014_x86_64.whl.metadata (12 kB)\n",
            "Collecting gprofiler-official (from Bio)\n",
            "  Downloading gprofiler_official-1.0.0-py3-none-any.whl.metadata (11 kB)\n",
            "Collecting mygene (from Bio)\n",
            "  Downloading mygene-3.2.2-py2.py3-none-any.whl.metadata (10 kB)\n",
            "Requirement already satisfied: pandas in /usr/local/lib/python3.10/dist-packages (from Bio) (2.2.2)\n",
            "Requirement already satisfied: pooch in /usr/local/lib/python3.10/dist-packages (from Bio) (1.8.2)\n",
            "Requirement already satisfied: requests in /usr/local/lib/python3.10/dist-packages (from Bio) (2.32.3)\n",
            "Requirement already satisfied: tqdm in /usr/local/lib/python3.10/dist-packages (from Bio) (4.66.5)\n",
            "Requirement already satisfied: numpy in /usr/local/lib/python3.10/dist-packages (from biopython>=1.80->Bio) (1.26.4)\n",
            "Collecting biothings-client>=0.2.6 (from mygene->Bio)\n",
            "  Downloading biothings_client-0.3.1-py2.py3-none-any.whl.metadata (9.8 kB)\n",
            "Requirement already satisfied: python-dateutil>=2.8.2 in /usr/local/lib/python3.10/dist-packages (from pandas->Bio) (2.8.2)\n",
            "Requirement already satisfied: pytz>=2020.1 in /usr/local/lib/python3.10/dist-packages (from pandas->Bio) (2024.2)\n",
            "Requirement already satisfied: tzdata>=2022.7 in /usr/local/lib/python3.10/dist-packages (from pandas->Bio) (2024.2)\n",
            "Requirement already satisfied: platformdirs>=2.5.0 in /usr/local/lib/python3.10/dist-packages (from pooch->Bio) (4.3.6)\n",
            "Requirement already satisfied: packaging>=20.0 in /usr/local/lib/python3.10/dist-packages (from pooch->Bio) (24.1)\n",
            "Requirement already satisfied: charset-normalizer<4,>=2 in /usr/local/lib/python3.10/dist-packages (from requests->Bio) (3.3.2)\n",
            "Requirement already satisfied: idna<4,>=2.5 in /usr/local/lib/python3.10/dist-packages (from requests->Bio) (3.10)\n",
            "Requirement already satisfied: urllib3<3,>=1.21.1 in /usr/local/lib/python3.10/dist-packages (from requests->Bio) (2.2.3)\n",
            "Requirement already satisfied: certifi>=2017.4.17 in /usr/local/lib/python3.10/dist-packages (from requests->Bio) (2024.8.30)\n",
            "Requirement already satisfied: six>=1.5 in /usr/local/lib/python3.10/dist-packages (from python-dateutil>=2.8.2->pandas->Bio) (1.16.0)\n",
            "Downloading bio-1.7.1-py3-none-any.whl (280 kB)\n",
            "\u001b[2K   \u001b[90m━━━━━━━━━━━━━━━━━━━━━━━━━━━━━━━━━━━━━━━━\u001b[0m \u001b[32m281.0/281.0 kB\u001b[0m \u001b[31m9.5 MB/s\u001b[0m eta \u001b[36m0:00:00\u001b[0m\n",
            "\u001b[?25hDownloading biopython-1.84-cp310-cp310-manylinux_2_17_x86_64.manylinux2014_x86_64.whl (3.2 MB)\n",
            "\u001b[2K   \u001b[90m━━━━━━━━━━━━━━━━━━━━━━━━━━━━━━━━━━━━━━━━\u001b[0m \u001b[32m3.2/3.2 MB\u001b[0m \u001b[31m46.8 MB/s\u001b[0m eta \u001b[36m0:00:00\u001b[0m\n",
            "\u001b[?25hDownloading gprofiler_official-1.0.0-py3-none-any.whl (9.3 kB)\n",
            "Downloading mygene-3.2.2-py2.py3-none-any.whl (5.4 kB)\n",
            "Downloading biothings_client-0.3.1-py2.py3-none-any.whl (29 kB)\n",
            "Installing collected packages: biopython, gprofiler-official, biothings-client, mygene, Bio\n",
            "Successfully installed Bio-1.7.1 biopython-1.84 biothings-client-0.3.1 gprofiler-official-1.0.0 mygene-3.2.2\n"
          ]
        }
      ]
    },
    {
      "cell_type": "code",
      "execution_count": 8,
      "metadata": {
        "colab": {
          "base_uri": "https://localhost:8080/"
        },
        "id": "MP46tbBK3BC3",
        "outputId": "796d48ee-3f6b-4a05-ffa3-1894c1a21959"
      },
      "outputs": [
        {
          "output_type": "stream",
          "name": "stdout",
          "text": [
            "Found 10 datasets.\n",
            "Accession:  GSE262514\n",
            "Title:  Mitochondrial Calcium Uniporter Promotes Kidney Aging through Inducing Mitochondrial Calcium-Mediated Renal Tubular Cell Senescence\n",
            "Summary:  Kidney is a vital organ responsible for homeostasis in the body. To retard kidney aging is of great importance for maintaining body health. Whereas the therapeutic strategies targeting against kidney aging are not elucidated. Recent studies show mitochondrial dysfunction is critical for renal tubular cell senescence and kidney aging, however, the underlying mechanisms of mitochondrial dysfunction in kidney aging have not been demonstrated. Herein, we found calcium overload, and the mitochondrial calcium uniporter (MCU) was induced in renal tubular cells and aged kidney. To activate MCU not only triggered mitochondrial calcium overload, but also induced reactive oxygen species (ROS) production and cellular senescence and age-related kidney fibrosis. Inversely, to block MCU or chelate calcium diminished ROS generation, restored mitochondrial homeostasis, and retarded cell senescence and protected against kidney aging. These results demonstrate MCU plays a key role in promote renal tubular cell senescence, which provides a new insight on the therapeutic strategy for fighting against kidney aging.\n",
            "Organism:  None\n",
            "Release Date:  2024/10/02\n",
            "============================================================\n",
            "Accession:  GSE273523\n",
            "Title:  The Senescence-associated Secretome of Hedgehog-deficient Hepatocytes Drives MASLD Progression\n",
            "Summary:  The burden of senescent hepatocytes correlates with MASLD severity but mechanisms driving senescence, and how it exacerbates MASLD are poorly understood. Hepatocytes become senescent when Smoothened (Smo) is deleted to disrupt Hedgehog signaling. We aimed to determine if the secretomes of Smo-deficient hepatocytes perpetuate senescence to drive MASLD progression. RNA seq analysis confirmed that hepatocyte populations of MASLD livers are depleted of Smo(+) cells and enriched with senescent cells. When fed CDA-HFD, Smo(-) mice had lower antioxidant markers and developed worse DNA damage, senescence, MASH and liver fibrosis than Smo(+) mice. Sera and hepatocyte-conditioned medium from Smo(-) mice were depleted of thymidine phosphorylase (TP), a protein that maintains mitochondrial fitness. Treating Smo(-) hepatocytes with TP reduced senescence and lipotoxicity; inhibiting TP in Smo(+) hepatocytes had the opposite effects and exacerbated hepatocyte senescence, MASH, and fibrosis in CDA-HFD-fed mice.Therefore, we found that inhibiting Hedgehog signaling in hepatocytes promotes MASLD by suppressing hepatocyte production of proteins that prevent lipotoxicity and senescence.\n",
            "Organism:  None\n",
            "Release Date:  2024/10/01\n",
            "============================================================\n",
            "Accession:  GSE234682\n",
            "Title:  miR-324 regulates both osteoblast and osteoclast differentiation and function to control bone homeostasis II\n",
            "Summary:  microRNAs are non-coding RNAs which modulate the expression of other RNA molecules. One microRNA can target many transcripts, allowing each microRNA to play key roles in many biological pathways. miR-324 is a microRNA previously implicated in bone and cartilage maintenance, defects of which result in common age-related diseases, such as osteoporosis or osteoarthritis (OA). Cartilage damage was increased in both surgically and ageing-induced OA however changes in the cartilage transcriptome were minimal, with few miR-324 predicted targets dysregulated. However, in vivo micro-computed tomography and histology demonstrated that global miR-324-null mice had an increase in bone mineral density, trabecular thickness and cortical thickness, with many parameters increasing with age. The bones of the miR-null mice also had decreased osteocytes numbers and lipid droplets. In vivo TRAP staining revealed a decrease in osteoclasts with histomorphometry demonstrating an increased rate of bone formation in miR-324-null mice. Ex vivo assays revealed that the high bone mass phenotype of the miR-324-null mice resulted from increased osteoblast activity and decreased osteoclastogenesis. RNA-seq and qRT-PCR followed by miR-324 target prediction and validation in osteoblasts, bone marrow macrophages and osteocytes, revealed that the osteoclast fusion regulator Pin1 was a miR-324 target in the osteoclast lineage, Hoxa9 and Samd5 were osteocyte target genes and the master osteogenic regulator Runx2 was a target of miR-324-5p in osteoblasts, the in vitro overexpression of which recapitulated the increased osteogenesis and decreased adipogenesis phenotype observed in vivo. These data point to important roles of miR-324 in skeletal biology. Elucidation of pathways regulated by miR-324 offers promise for the treatment of bone diseases such as osteoporosis.\n",
            "Organism:  None\n",
            "Release Date:  2024/10/01\n",
            "============================================================\n",
            "Accession:  GSE233809\n",
            "Title:  miR-324 regulates both osteoblast and osteoclast differentiation and function to control bone homeostasis\n",
            "Summary:  microRNAs are non-coding RNAs which modulate the expression of other RNA molecules. One microRNA can target many transcripts, allowing each microRNA to play key roles in many biological pathways. miR-324 is a microRNA previously implicated in bone and cartilage maintenance, defects of which result in common age-related diseases, such as osteoporosis or osteoarthritis (OA). Cartilage damage was increased in both surgically and ageing-induced OA however changes in the cartilage transcriptome were minimal, with few miR-324 predicted targets dysregulated. However, in vivo micro-computed tomography and histology demonstrated that global miR-324-null mice had an increase in bone mineral density, trabecular thickness and cortical thickness, with many parameters increasing with age. The bones of the miR-null mice also had decreased osteocytes numbers and lipid droplets. In vivo TRAP staining revealed a decrease in osteoclasts with histomorphometry demonstrating an increased rate of bone formation in miR-324-null mice. Ex vivo assays revealed that the high bone mass phenotype of the miR-324-null mice resulted from increased osteoblast activity and decreased osteoclastogenesis. RNA-seq and qRT-PCR followed by miR-324 target prediction and validation in osteoblasts, bone marrow macrophages and osteocytes, revealed that the osteoclast fusion regulator Pin1 was a miR-324 target in the osteoclast lineage, Hoxa9 and Samd5 were osteocyte target genes and the master osteogenic regulator Runx2 was a target of miR-324-5p in osteoblasts, the in vitro overexpression of which recapitulated the increased osteogenesis and decreased adipogenesis phenotype observed in vivo. These data point to important roles of miR-324 in skeletal biology. Elucidation of pathways regulated by miR-324 offers promise for the treatment of bone diseases such as osteoporosis.\n",
            "Organism:  None\n",
            "Release Date:  2024/10/01\n",
            "============================================================\n",
            "Accession:  GSE226615\n",
            "Title:  miR-324 regulates both osteoblast and osteoclast differentiation and function to control bone homeostasis  \n",
            "Summary:   microRNAs are non-coding RNAs which modulate the expression of other RNA molecules. One microRNA can target many transcripts, allowing each microRNA to play key roles in many biological pathways. miR-324 is a microRNA previously implicated in bone and cartilage maintenance, defects of which result in common age-related diseases, such as osteoporosis or osteoarthritis (OA). Cartilage damage was increased in both surgically and ageing-induced OA however changes in the cartilage transcriptome were minimal, with few miR-324 predicted targets dysregulated. However, in vivo micro-computed tomography and histology demonstrated that global miR-324-null mice had an increase in bone mineral density, trabecular thickness and cortical thickness, with many parameters increasing with age. The bones of the miR-null mice also had decreased osteocytes numbers and lipid droplets. In vivo TRAP staining revealed a decrease in osteoclasts with histomorphometry demonstrating an increased rate of bone formation in miR-324-null mice. Ex vivo assays revealed that the high bone mass phenotype of the miR-324-null mice resulted from increased osteoblast activity and decreased osteoclastogenesis. RNA-seq and qRT-PCR followed by miR-324 target prediction and validation in osteoblasts, bone marrow macrophages and osteocytes, revealed that the osteoclast fusion regulator Pin1 was a miR-324 target in the osteoclast lineage, Hoxa9 and Samd5 were osteocyte target genes and the master osteogenic regulator Runx2 was a target of miR-324-5p in osteoblasts, the in vitro overexpression of which recapitulated the increased osteogenesis and decreased adipogenesis phenotype observed in vivo. These data point to important roles of miR-324 in skeletal biology. Elucidation of pathways regulated by miR-324 offers promise for the treatment of bone diseases such as osteoporosis.\n",
            "Organism:  None\n",
            "Release Date:  2024/10/01\n",
            "============================================================\n",
            "Accession:  GSE277734\n",
            "Title:  Reduction in olfactory ability in aging Mitf mutant mice without evidence of neurodegeneration\n",
            "Summary:  Age-related decline occurs in most brain structures and sensory systems. An illustrative case is olfaction, where the olfactory bulb (OB) undergoes deterioration with age, resulting in reduced olfactory ability. A decline in olfaction is also associated with early symptoms of neurodegenerative diseases, including Alzheimer’s disease (AD) and Parkinson’s disease (PD). However, the underlying reasons are unclear. The microphthalmia-associated transcription factor (MITF) is expressed in the projection neurons (PNs) of the OB – the mitral and tufted (M/T) cells. Primary M/T cells from Mitf mutant mice show hyperactivity, potentially attributed to reduced expression of a key potassium channel subunit, Kcnd3/Kv4.3. This influences intrinsic plasticity, an essential mechanism involving the non-synaptic regulation of neuronal activity. As neuronal hyperactivity often precedes neurodegenerative conditions, the current study aimed to determine whether the absence of Mitf has degenerative effects during aging. Aged Mitf mutant mice showed reduced olfactory ability without inflammation. However, an increase in the expression of potassium channel subunit genes in the OBs of aged Mitfmi-vga9/mi-vga9 mice suggests that during aging compensatory mechanisms lead to stabilization.\n",
            "Organism:  None\n",
            "Release Date:  2024/09/25\n",
            "============================================================\n",
            "Accession:  GSE225576\n",
            "Title:  An atlas of the aging mouse transcriptome and proteome reveals the features of age-related post-transcriptional dysregulation\n",
            "Summary:  We've collected bulk RNA-Seq and TMT-labeled proteomic data of aorta, brain, heart, kidney, liver, lung, muscle (gastrocnemius muscle), and skin of 6-, 15-, 24-, and 30-months old male C57BL/6J mice. The tissues used for transcriptomic analysis and proteomic analysis were collected from the same mice. All analyses were conducted with 4 biological replicates.\n",
            "Organism:  None\n",
            "Release Date:  2024/09/18\n",
            "============================================================\n",
            "Accession:  GSE272933\n",
            "Title:  Pregnancy Restricts an Age-Driven Accumulation of Hybrid Cells in the Mammary Gland [bulk RNA-Seq]\n",
            "Summary:  Aging increases breast cancer risk while an early first pregnancy reduces a woman’s life-long risk. Several studies have explored the effect of either aging or pregnancy on mammary epithelial cells (MECs), but the combined effect of both remains unclear. Here, we interrogate the functional and transcriptomic changes at single cell resolution in the mammary gland of aged nulliparous and parous mice to discover that pregnancy normalizes age-related imbalances in lineage composition, while also inducing a permanently differentiated cell state. Importantly, we uncover a minority population of Il33-expressing hybrid cells with high cellular potency that accumulate in aged nulliparous mice but is significantly reduced in aged parous mice. Functionally, IL33 treatment of basal, but not luminal, epithelial cells from young mice phenocopies aged nulliparous MECs and promotes formation of organoids with Tp53 knockdown. Collectively, our study demonstrates that pregnancy blocks the age-associated loss of lineage integrity in the basal layer through a decrease in Il33+ hybrid cells, potentially contributing to pregnancy-induced breast cancer protection.\n",
            "Organism:  None\n",
            "Release Date:  2024/09/12\n",
            "============================================================\n",
            "Accession:  GSE272913\n",
            "Title:  Dnmt3a Controls Hematopoietic Stem Cells via DNA Methylation-Independent Regulation of Telomeres\n",
            "Summary:  Dnmt3a is the most recurrently mutated gene in clonal hematopoiesis (CH) and it is a critical regulator of hematopoietic stem cells (HSCs). Conditional deletion of Dnmt3a in mouse HSC results in enhanced self-renewal but impaired differnetiation. Dnmt3a encodes for a de novo DNA methyltransferase enzyme but both mouse and human cells with loss of Dnmt3a show minimal change in DNA methylation levels which do not correlate with gene expression differences. To understand if these changes are due to non-canonical function of Dnmt3a, we generated varying levels of DNA methyaltion-impared Dnmt3a mouse models. Our data depicts that DNA methyaltion-impaired Dnmt3a phenocopy wild-type in serial transplant. And Dnmt3a methyltransferase-deficient HSCs showed differntially methylated regions (DMRs) and gene expression pattern that overlapped with Dnmt3a-null HScs. Suggesting that Dnmt3a has important non-canonical function that partially regulates HSC fate. Dnmt3a-null HSC increased HSC self-renwal and can be transplanted indefinitely and increase longevity with no erosion of telomere length. Dnmt3a-null HSCs showed increased telomere at baseline and maintained overa serial transplant and increased telomerase activity. The role of Dnmt3a in telomere maintenance was not strictly linked to elongated telomere length but in regulation of DNA damage response that occurs at stressed telomeres. These data show a unidentified role of Dnmt3a in HSC telomere maintenance that is note related to DNA methylation function.\n",
            "Organism:  None\n",
            "Release Date:  2024/09/10\n",
            "============================================================\n",
            "Accession:  GSE248881\n",
            "Title:  Brain-Derived CCN3 Is An Osteoanabolic Hormone That Sustains Bone in Lactating Females [ARC]\n",
            "Summary:  During lactation, mothers initiate cycles of bone formation followed by significant bone loss to meet the high calcium (Ca2+) demand by progeny. While estrogen functions typically as an anabolic driver of bone remodeling, this sex steroid is absent in postpartum females. Here, we report that a brain-derived secreted from neurons of the arcuate nucleus (ARC) fills this void and functions as a potent osteogenic factor to promote bone mass in lactating females. We previously reported an extraordinarily sex-specific high bone mass phenotype in female mice that persists with aging and is central in origin after eliminating estrogen receptor alpha signaling in ARCKISS1 neurons. Parabiosis and bone transplant studies established that a humoral factor in mutant females accounts for this unusual skeletal phenotype. High bone mass in mutant females could be traced back to the skeletal stem cell (SSC) level, reflected by their increased frequency and osteochondrogenic potential. Based on ex-vivo, in vivo, and in vitro assays, one protein emerged as the most promising secreted pro-osteogenic factor from the ARC, acting in mice and human SSCs at low concentrations (<nM) independent of age and sex. The role of this brain-derived factor in bone formation was confirmed by in vivo gain and loss of function studies. Unexpectedly, in wild-type females, a transient spike of this protein appears in ARCKISS1 neurons coincident with lactation when bone remodeling and high calcium demand intensify in estrogen-depleted mothers. Our findings establish a potentially new therapeutic anabolic bone hormone that functions in a novel female-specific brain-bone axis to ensure mammalian species survival.\n",
            "Organism:  None\n",
            "Release Date:  2024/09/03\n",
            "============================================================\n"
          ]
        }
      ],
      "source": [
        "from Bio import Entrez\n",
        "\n",
        "# Function to search GEO for mouse datasets related to aging and RNA-seq\n",
        "def search_geo_datasets(keyword, organism=\"Mus musculus\", db=\"gds\", retmax=20):\n",
        "    Entrez.email = \"your_email@example.com\"  # Always use your email\n",
        "    search_term = f\"{keyword} RNA-seq {organism}\"\n",
        "\n",
        "    # Search GEO datasets\n",
        "    handle = Entrez.esearch(db=db, term=search_term, retmax=retmax)\n",
        "    record = Entrez.read(handle)\n",
        "    handle.close()\n",
        "\n",
        "    # Get the list of GEO dataset IDs\n",
        "    dataset_ids = record[\"IdList\"]\n",
        "\n",
        "    # Create a list of GSE accessions to return\n",
        "    gse_accessions = []\n",
        "\n",
        "    # Fetch metadata for each dataset\n",
        "    if dataset_ids:\n",
        "        print(f\"Found {len(dataset_ids)} datasets.\")\n",
        "        for geo_id in dataset_ids:\n",
        "            summary_handle = Entrez.esummary(db=db, id=geo_id)\n",
        "            summary_record = Entrez.read(summary_handle)\n",
        "            summary_handle.close()\n",
        "\n",
        "            for dataset in summary_record:\n",
        "                print(\"Accession: \", dataset.get(\"Accession\"))\n",
        "                print(\"Title: \", dataset.get(\"title\"))\n",
        "                print(\"Summary: \", dataset.get(\"summary\"))\n",
        "                print(\"Organism: \", dataset.get(\"organism\"))\n",
        "                print(\"Release Date: \", dataset.get(\"PDAT\"))\n",
        "                print(\"=\" * 60)\n",
        "                gse_accessions.append(dataset.get(\"Accession\"))\n",
        "        return gse_accessions\n",
        "    else:\n",
        "        print(\"No datasets found.\")\n",
        "\n",
        "# Perform a search for aging-related mouse RNA-seq datasets\n",
        "ids = search_geo_datasets(\"aging\", organism=\"Mus musculus\", db=\"gds\", retmax=10)\n"
      ]
    },
    {
      "cell_type": "code",
      "source": [
        "ids"
      ],
      "metadata": {
        "colab": {
          "base_uri": "https://localhost:8080/"
        },
        "id": "rFexiMU_4kAN",
        "outputId": "fcc7520e-9afc-4912-b37d-0c7df1150e63"
      },
      "execution_count": 9,
      "outputs": [
        {
          "output_type": "execute_result",
          "data": {
            "text/plain": [
              "['GSE262514',\n",
              " 'GSE273523',\n",
              " 'GSE234682',\n",
              " 'GSE233809',\n",
              " 'GSE226615',\n",
              " 'GSE277734',\n",
              " 'GSE225576',\n",
              " 'GSE272933',\n",
              " 'GSE272913',\n",
              " 'GSE248881']"
            ]
          },
          "metadata": {},
          "execution_count": 9
        }
      ]
    },
    {
      "cell_type": "code",
      "source": [
        "pip install GEOparse"
      ],
      "metadata": {
        "colab": {
          "base_uri": "https://localhost:8080/"
        },
        "id": "3mM0uGE34ktO",
        "outputId": "9cda6ca5-44a2-48a1-a73e-569cab952573"
      },
      "execution_count": 10,
      "outputs": [
        {
          "output_type": "stream",
          "name": "stdout",
          "text": [
            "Collecting GEOparse\n",
            "  Downloading GEOparse-2.0.4-py3-none-any.whl.metadata (6.5 kB)\n",
            "Requirement already satisfied: numpy>=1.7 in /usr/local/lib/python3.10/dist-packages (from GEOparse) (1.26.4)\n",
            "Requirement already satisfied: pandas>=0.17 in /usr/local/lib/python3.10/dist-packages (from GEOparse) (2.2.2)\n",
            "Requirement already satisfied: requests>=2.21.0 in /usr/local/lib/python3.10/dist-packages (from GEOparse) (2.32.3)\n",
            "Requirement already satisfied: tqdm>=4.31.1 in /usr/local/lib/python3.10/dist-packages (from GEOparse) (4.66.5)\n",
            "Requirement already satisfied: python-dateutil>=2.8.2 in /usr/local/lib/python3.10/dist-packages (from pandas>=0.17->GEOparse) (2.8.2)\n",
            "Requirement already satisfied: pytz>=2020.1 in /usr/local/lib/python3.10/dist-packages (from pandas>=0.17->GEOparse) (2024.2)\n",
            "Requirement already satisfied: tzdata>=2022.7 in /usr/local/lib/python3.10/dist-packages (from pandas>=0.17->GEOparse) (2024.2)\n",
            "Requirement already satisfied: charset-normalizer<4,>=2 in /usr/local/lib/python3.10/dist-packages (from requests>=2.21.0->GEOparse) (3.3.2)\n",
            "Requirement already satisfied: idna<4,>=2.5 in /usr/local/lib/python3.10/dist-packages (from requests>=2.21.0->GEOparse) (3.10)\n",
            "Requirement already satisfied: urllib3<3,>=1.21.1 in /usr/local/lib/python3.10/dist-packages (from requests>=2.21.0->GEOparse) (2.2.3)\n",
            "Requirement already satisfied: certifi>=2017.4.17 in /usr/local/lib/python3.10/dist-packages (from requests>=2.21.0->GEOparse) (2024.8.30)\n",
            "Requirement already satisfied: six>=1.5 in /usr/local/lib/python3.10/dist-packages (from python-dateutil>=2.8.2->pandas>=0.17->GEOparse) (1.16.0)\n",
            "Downloading GEOparse-2.0.4-py3-none-any.whl (29 kB)\n",
            "Installing collected packages: GEOparse\n",
            "Successfully installed GEOparse-2.0.4\n"
          ]
        }
      ]
    },
    {
      "cell_type": "code",
      "source": [
        "import GEOparse\n",
        "import pandas as pd\n",
        "from itables import show"
      ],
      "metadata": {
        "id": "2sE-naVa_IXR"
      },
      "execution_count": 36,
      "outputs": []
    },
    {
      "cell_type": "code",
      "source": [
        "\n",
        "# Replace this with your GSE accession\n",
        "gse_accession = \"GSE277734\"\n",
        "\n",
        "# Download the GEO dataset by accession\n",
        "gse = GEOparse.get_GEO(geo=gse_accession, destdir=\"./\")\n",
        "\n",
        "# Create an empty list to store sample data\n",
        "sample_data = []\n",
        "\n",
        "# Collect the GSE series name and ID\n",
        "gse_name = gse.metadata['title'][0]\n",
        "gse_id = gse_accession\n",
        "\n",
        "# Accessing and collecting the sample information\n",
        "for gsm_name, gsm in gse.gsms.items():\n",
        "    sample_info = {\n",
        "        \"GSE ID\": gse_id,\n",
        "        \"GSE Series Name\": gse_name,\n",
        "        \"Sample\": gsm_name,\n",
        "        \"Title\": gsm.metadata['title'][0],\n",
        "        \"Organism\": gsm.metadata['organism_ch1'][0],\n",
        "        \"Source Name\": gsm.metadata['source_name_ch1'][0]\n",
        "    }\n",
        "    # Expand characteristics into separate columns\n",
        "    characteristics = gsm.metadata['characteristics_ch1']\n",
        "\n",
        "    # Add each characteristic as a separate entry in the sample_info dictionary\n",
        "    for char in characteristics:\n",
        "        key, value = char.split(\": \", 1)  # Split key and value\n",
        "        sample_info[key] = value  # Add to sample_info dictionary\n",
        "\n",
        "    sample_data.append(sample_info)\n",
        "\n",
        "# Create a DataFrame from the sample data\n",
        "sample_df = pd.DataFrame(sample_data)\n",
        "\n",
        "# Display the DataFrame\n",
        "print(sample_df)\n",
        "show(sample_df)\n",
        "\n",
        "# Optionally, save the DataFrame to a CSV file\n",
        "sample_df.to_csv(\"GEO_samples_with_GSE.csv\", index=False)\n"
      ],
      "metadata": {
        "colab": {
          "base_uri": "https://localhost:8080/",
          "height": 1000
        },
        "id": "jRDRF6295K35",
        "outputId": "b7ff8777-07c5-45be-ca76-14b235fd9eba"
      },
      "execution_count": 37,
      "outputs": [
        {
          "output_type": "stream",
          "name": "stderr",
          "text": [
            "09-Oct-2024 11:23:31 DEBUG utils - Directory ./ already exists. Skipping.\n",
            "DEBUG:GEOparse:Directory ./ already exists. Skipping.\n",
            "09-Oct-2024 11:23:31 INFO GEOparse - File already exist: using local version.\n",
            "INFO:GEOparse:File already exist: using local version.\n",
            "09-Oct-2024 11:23:31 INFO GEOparse - Parsing ./GSE277734_family.soft.gz: \n",
            "INFO:GEOparse:Parsing ./GSE277734_family.soft.gz: \n",
            "09-Oct-2024 11:23:31 DEBUG GEOparse - DATABASE: GeoMiame\n",
            "DEBUG:GEOparse:DATABASE: GeoMiame\n",
            "09-Oct-2024 11:23:31 DEBUG GEOparse - SERIES: GSE277734\n",
            "DEBUG:GEOparse:SERIES: GSE277734\n",
            "09-Oct-2024 11:23:31 DEBUG GEOparse - PLATFORM: GPL24247\n",
            "DEBUG:GEOparse:PLATFORM: GPL24247\n",
            "09-Oct-2024 11:23:31 DEBUG GEOparse - SAMPLE: GSM8528619\n",
            "DEBUG:GEOparse:SAMPLE: GSM8528619\n",
            "09-Oct-2024 11:23:31 DEBUG GEOparse - SAMPLE: GSM8528620\n",
            "DEBUG:GEOparse:SAMPLE: GSM8528620\n",
            "09-Oct-2024 11:23:31 DEBUG GEOparse - SAMPLE: GSM8528621\n",
            "DEBUG:GEOparse:SAMPLE: GSM8528621\n",
            "09-Oct-2024 11:23:31 DEBUG GEOparse - SAMPLE: GSM8528622\n",
            "DEBUG:GEOparse:SAMPLE: GSM8528622\n",
            "09-Oct-2024 11:23:31 DEBUG GEOparse - SAMPLE: GSM8528623\n",
            "DEBUG:GEOparse:SAMPLE: GSM8528623\n",
            "09-Oct-2024 11:23:31 DEBUG GEOparse - SAMPLE: GSM8528624\n",
            "DEBUG:GEOparse:SAMPLE: GSM8528624\n"
          ]
        },
        {
          "output_type": "stream",
          "name": "stdout",
          "text": [
            "      GSE ID                                    GSE Series Name      Sample  \\\n",
            "0  GSE277734  Reduction in olfactory ability in aging Mitf m...  GSM8528619   \n",
            "1  GSE277734  Reduction in olfactory ability in aging Mitf m...  GSM8528620   \n",
            "2  GSE277734  Reduction in olfactory ability in aging Mitf m...  GSM8528621   \n",
            "3  GSE277734  Reduction in olfactory ability in aging Mitf m...  GSM8528622   \n",
            "4  GSE277734  Reduction in olfactory ability in aging Mitf m...  GSM8528623   \n",
            "5  GSE277734  Reduction in olfactory ability in aging Mitf m...  GSM8528624   \n",
            "\n",
            "                                               Title      Organism  \\\n",
            "0      C57BL/6J, control1, OB, female, 25 months old  Mus musculus   \n",
            "1      C57BL/6J, control2, OB, female, 25 months old  Mus musculus   \n",
            "2   C57BL/6J (WT), control3, OB, male, 26 months old  Mus musculus   \n",
            "3  Mitfmi-vga9/mi-vga9, Mitf mutant1, OB, male, 2...  Mus musculus   \n",
            "4  Mitfmi-vga9/mi-vga9, Mitf mutant2, OB, female,...  Mus musculus   \n",
            "5  Mitfmi-vga9/mi-vga9, Mitf mutant3, OB, female,...  Mus musculus   \n",
            "\n",
            "      Source Name          tissue              cell type  \\\n",
            "0  Olfactory bulb  Olfactory bulb  Female, 25 months old   \n",
            "1  Olfactory bulb  Olfactory bulb  Female, 25 months old   \n",
            "2  Olfactory bulb  Olfactory bulb    Male, 26 months old   \n",
            "3  Olfactory bulb  Olfactory bulb    Male, 25 months old   \n",
            "4  Olfactory bulb  Olfactory bulb  Female, 25 months old   \n",
            "5  Olfactory bulb  Olfactory bulb  Female, 22 months old   \n",
            "\n",
            "                            genotype     treatment  \n",
            "0                      C57BL/6J (WT)  No treatment  \n",
            "1                      C57BL/6J (WT)  No treatment  \n",
            "2                      C57BL/6J (WT)  No treatment  \n",
            "3  Mitfmi-vga9/mi-vga9 (Mitf mutant)  No treatment  \n",
            "4  Mitfmi-vga9/mi-vga9 (Mitf mutant)  No treatment  \n",
            "5  Mitfmi-vga9/mi-vga9 (Mitf mutant)  No treatment  \n"
          ]
        },
        {
          "output_type": "display_data",
          "data": {
            "text/plain": [
              "<IPython.core.display.HTML object>"
            ],
            "text/html": [
              "<table id=\"itables_ac5edd94_d4b4_46d7_ab9f_a61ca5bac578\" class=\"display nowrap\" data-quarto-disable-processing=\"true\" style=\"table-layout:auto;width:auto;margin:auto;caption-side:bottom\">\n",
              "<thead>\n",
              "    <tr style=\"text-align: right;\">\n",
              "      \n",
              "      <th>GSE ID</th>\n",
              "      <th>GSE Series Name</th>\n",
              "      <th>Sample</th>\n",
              "      <th>Title</th>\n",
              "      <th>Organism</th>\n",
              "      <th>Source Name</th>\n",
              "      <th>tissue</th>\n",
              "      <th>cell type</th>\n",
              "      <th>genotype</th>\n",
              "      <th>treatment</th>\n",
              "    </tr>\n",
              "  </thead><tbody><tr>\n",
              "<td style=\"vertical-align:middle; text-align:left\">\n",
              "<div style=\"float:left; margin-right: 10px;\">\n",
              "<a href=https://mwouts.github.io/itables/><svg class=\"main-svg\" xmlns=\"http://www.w3.org/2000/svg\" xmlns:xlink=\"http://www.w3.org/1999/xlink\"\n",
              "width=\"64\" viewBox=\"0 0 500 400\" style=\"font-family: 'Droid Sans', sans-serif;\">\n",
              "    <g style=\"fill:#d9d7fc\">\n",
              "        <path d=\"M100,400H500V357H100Z\" />\n",
              "        <path d=\"M100,300H400V257H100Z\" />\n",
              "        <path d=\"M0,200H400V157H0Z\" />\n",
              "        <path d=\"M100,100H500V57H100Z\" />\n",
              "        <path d=\"M100,350H500V307H100Z\" />\n",
              "        <path d=\"M100,250H400V207H100Z\" />\n",
              "        <path d=\"M0,150H400V107H0Z\" />\n",
              "        <path d=\"M100,50H500V7H100Z\" />\n",
              "    </g>\n",
              "    <g style=\"fill:#1a1366;stroke:#1a1366;\">\n",
              "   <rect x=\"100\" y=\"7\" width=\"400\" height=\"43\">\n",
              "    <animate\n",
              "      attributeName=\"width\"\n",
              "      values=\"0;400;0\"\n",
              "      dur=\"5s\"\n",
              "      repeatCount=\"indefinite\" />\n",
              "      <animate\n",
              "      attributeName=\"x\"\n",
              "      values=\"100;100;500\"\n",
              "      dur=\"5s\"\n",
              "      repeatCount=\"indefinite\" />\n",
              "  </rect>\n",
              "        <rect x=\"0\" y=\"107\" width=\"400\" height=\"43\">\n",
              "    <animate\n",
              "      attributeName=\"width\"\n",
              "      values=\"0;400;0\"\n",
              "      dur=\"3.5s\"\n",
              "      repeatCount=\"indefinite\" />\n",
              "    <animate\n",
              "      attributeName=\"x\"\n",
              "      values=\"0;0;400\"\n",
              "      dur=\"3.5s\"\n",
              "      repeatCount=\"indefinite\" />\n",
              "  </rect>\n",
              "        <rect x=\"100\" y=\"207\" width=\"300\" height=\"43\">\n",
              "    <animate\n",
              "      attributeName=\"width\"\n",
              "      values=\"0;300;0\"\n",
              "      dur=\"3s\"\n",
              "      repeatCount=\"indefinite\" />\n",
              "    <animate\n",
              "      attributeName=\"x\"\n",
              "      values=\"100;100;400\"\n",
              "      dur=\"3s\"\n",
              "      repeatCount=\"indefinite\" />\n",
              "  </rect>\n",
              "        <rect x=\"100\" y=\"307\" width=\"400\" height=\"43\">\n",
              "    <animate\n",
              "      attributeName=\"width\"\n",
              "      values=\"0;400;0\"\n",
              "      dur=\"4s\"\n",
              "      repeatCount=\"indefinite\" />\n",
              "      <animate\n",
              "      attributeName=\"x\"\n",
              "      values=\"100;100;500\"\n",
              "      dur=\"4s\"\n",
              "      repeatCount=\"indefinite\" />\n",
              "  </rect>\n",
              "        <g style=\"fill:transparent;stroke-width:8; stroke-linejoin:round\" rx=\"5\">\n",
              "            <g transform=\"translate(45 50) rotate(-45)\">\n",
              "                <circle r=\"33\" cx=\"0\" cy=\"0\" />\n",
              "                <rect x=\"-8\" y=\"32\" width=\"16\" height=\"30\" />\n",
              "            </g>\n",
              "\n",
              "            <g transform=\"translate(450 152)\">\n",
              "                <polyline points=\"-15,-20 -35,-20 -35,40 25,40 25,20\" />\n",
              "                <rect x=\"-15\" y=\"-40\" width=\"60\" height=\"60\" />\n",
              "            </g>\n",
              "\n",
              "            <g transform=\"translate(50 352)\">\n",
              "                <polygon points=\"-35,-5 0,-40 35,-5\" />\n",
              "                <polygon points=\"-35,10 0,45 35,10\" />\n",
              "            </g>\n",
              "\n",
              "            <g transform=\"translate(75 250)\">\n",
              "                <polyline points=\"-30,30 -60,0 -30,-30\" />\n",
              "                <polyline points=\"0,30 -30,0 0,-30\" />\n",
              "            </g>\n",
              "\n",
              "            <g transform=\"translate(425 250) rotate(180)\">\n",
              "                <polyline points=\"-30,30 -60,0 -30,-30\" />\n",
              "                <polyline points=\"0,30 -30,0 0,-30\" />\n",
              "            </g>\n",
              "        </g>\n",
              "    </g>\n",
              "</svg>\n",
              "</a>\n",
              "</div>\n",
              "<div>\n",
              "Loading ITables v2.2.2 from the internet...\n",
              "(need <a href=https://mwouts.github.io/itables/troubleshooting.html>help</a>?)</td>\n",
              "</div>\n",
              "</tr></tbody>\n",
              "\n",
              "</table>\n",
              "<link href=\"https://www.unpkg.com/dt_for_itables@2.0.13/dt_bundle.css\" rel=\"stylesheet\">\n",
              "<script type=\"module\">\n",
              "    import {DataTable, jQuery as $} from 'https://www.unpkg.com/dt_for_itables@2.0.13/dt_bundle.js';\n",
              "\n",
              "    document.querySelectorAll(\"#itables_ac5edd94_d4b4_46d7_ab9f_a61ca5bac578:not(.dataTable)\").forEach(table => {\n",
              "        if (!(table instanceof HTMLTableElement))\n",
              "            return;\n",
              "\n",
              "        // Define the table data\n",
              "        const data = [[\"GSE277734\", \"Reduction in olfactory ability in aging Mitf mutant mice without evidence of neurodegeneration\", \"GSM8528619\", \"C57BL/6J, control1, OB, female, 25 months old\", \"Mus musculus\", \"Olfactory bulb\", \"Olfactory bulb\", \"Female, 25 months old\", \"C57BL/6J (WT)\", \"No treatment\"], [\"GSE277734\", \"Reduction in olfactory ability in aging Mitf mutant mice without evidence of neurodegeneration\", \"GSM8528620\", \"C57BL/6J, control2, OB, female, 25 months old\", \"Mus musculus\", \"Olfactory bulb\", \"Olfactory bulb\", \"Female, 25 months old\", \"C57BL/6J (WT)\", \"No treatment\"], [\"GSE277734\", \"Reduction in olfactory ability in aging Mitf mutant mice without evidence of neurodegeneration\", \"GSM8528621\", \"C57BL/6J (WT), control3, OB, male, 26 months old\", \"Mus musculus\", \"Olfactory bulb\", \"Olfactory bulb\", \"Male, 26 months old\", \"C57BL/6J (WT)\", \"No treatment\"], [\"GSE277734\", \"Reduction in olfactory ability in aging Mitf mutant mice without evidence of neurodegeneration\", \"GSM8528622\", \"Mitfmi-vga9/mi-vga9, Mitf mutant1, OB, male, 25 months old\", \"Mus musculus\", \"Olfactory bulb\", \"Olfactory bulb\", \"Male, 25 months old\", \"Mitfmi-vga9/mi-vga9 (Mitf mutant)\", \"No treatment\"], [\"GSE277734\", \"Reduction in olfactory ability in aging Mitf mutant mice without evidence of neurodegeneration\", \"GSM8528623\", \"Mitfmi-vga9/mi-vga9, Mitf mutant2, OB, female, 25 months old\", \"Mus musculus\", \"Olfactory bulb\", \"Olfactory bulb\", \"Female, 25 months old\", \"Mitfmi-vga9/mi-vga9 (Mitf mutant)\", \"No treatment\"], [\"GSE277734\", \"Reduction in olfactory ability in aging Mitf mutant mice without evidence of neurodegeneration\", \"GSM8528624\", \"Mitfmi-vga9/mi-vga9, Mitf mutant3, OB, female, 22 months old\", \"Mus musculus\", \"Olfactory bulb\", \"Olfactory bulb\", \"Female, 22 months old\", \"Mitfmi-vga9/mi-vga9 (Mitf mutant)\", \"No treatment\"]];\n",
              "\n",
              "        // Define the dt_args\n",
              "        let dt_args = {\"layout\": {\"topStart\": null, \"topEnd\": null, \"bottomStart\": null, \"bottomEnd\": null}, \"order\": [], \"warn_on_selected_rows_not_rendered\": true};\n",
              "        dt_args[\"data\"] = data;\n",
              "\n",
              "        \n",
              "        new DataTable(table, dt_args);\n",
              "    });\n",
              "</script>\n"
            ]
          },
          "metadata": {}
        }
      ]
    },
    {
      "cell_type": "code",
      "source": [
        "gsm.metadata"
      ],
      "metadata": {
        "colab": {
          "base_uri": "https://localhost:8080/"
        },
        "id": "CGJNA7ib7nfM",
        "outputId": "83aadce2-3a2e-4edb-827f-9b898c8059cb"
      },
      "execution_count": 24,
      "outputs": [
        {
          "output_type": "execute_result",
          "data": {
            "text/plain": [
              "{'title': ['C57BL/6J, control1, OB, female, 25 months old'],\n",
              " 'geo_accession': ['GSM8528619'],\n",
              " 'status': ['Public on Sep 25 2024'],\n",
              " 'submission_date': ['Sep 21 2024'],\n",
              " 'last_update_date': ['Sep 25 2024'],\n",
              " 'type': ['SRA'],\n",
              " 'channel_count': ['1'],\n",
              " 'source_name_ch1': ['Olfactory bulb'],\n",
              " 'organism_ch1': ['Mus musculus'],\n",
              " 'taxid_ch1': ['10090'],\n",
              " 'characteristics_ch1': ['tissue: Olfactory bulb',\n",
              "  'cell type: Female, 25 months old',\n",
              "  'genotype: C57BL/6J (WT)',\n",
              "  'treatment: No treatment'],\n",
              " 'molecule_ch1': ['total RNA'],\n",
              " 'extract_protocol_ch1': ['RNA was isolated using a commercially available kit Monarch Total RNA Miniprep Kit; New England Biolabs Inc., cat# T2010S.',\n",
              "  \"To create RNA libraries Illumina's TruSeq RNA v2 Sample Prep Kit (Illumina, RS-122-2001) was used.\"],\n",
              " 'data_processing': ['Basecalling was performed in real-time using RTA v3.4.4. The process of demultiplexing BCL files and generating FASTQ files was done using bcl2fastq2 v.2.20.',\n",
              "  'Kallisto pseudocounts with reference transcriptome Mus_musculus.GRCm39',\n",
              "  'Assembly: Mus_musculus.GRCm39',\n",
              "  'Supplementary files format and content: Kallisto count files  h5 and tsv files'],\n",
              " 'platform_id': ['GPL24247'],\n",
              " 'contact_name': ['Pétir,Henry,Petersen'],\n",
              " 'contact_department': ['Faculty of Medicine'],\n",
              " 'contact_institute': ['University of Iceland'],\n",
              " 'contact_address': ['Vatnsmyrarvegur 16'],\n",
              " 'contact_city': ['Reykjavik'],\n",
              " 'contact_zip/postal_code': ['101'],\n",
              " 'contact_country': ['Iceland'],\n",
              " 'instrument_model': ['Illumina NovaSeq 6000'],\n",
              " 'library_selection': ['cDNA'],\n",
              " 'library_source': ['transcriptomic'],\n",
              " 'library_strategy': ['RNA-Seq'],\n",
              " 'relation': ['BioSample: https://www.ncbi.nlm.nih.gov/biosample/SAMN43866408',\n",
              "  'SRA: https://www.ncbi.nlm.nih.gov/sra?term=SRX26160413'],\n",
              " 'supplementary_file_1': ['ftp://ftp.ncbi.nlm.nih.gov/geo/samples/GSM8528nnn/GSM8528619/suppl/GSM8528619_FM_11_abundance.h5'],\n",
              " 'supplementary_file_2': ['ftp://ftp.ncbi.nlm.nih.gov/geo/samples/GSM8528nnn/GSM8528619/suppl/GSM8528619_FM_11_abundance.tsv.gz'],\n",
              " 'series_id': ['GSE277734'],\n",
              " 'data_row_count': ['0']}"
            ]
          },
          "metadata": {},
          "execution_count": 24
        }
      ]
    },
    {
      "cell_type": "code",
      "source": [],
      "metadata": {
        "id": "uhb_n06c8P2T"
      },
      "execution_count": null,
      "outputs": []
    }
  ]
}